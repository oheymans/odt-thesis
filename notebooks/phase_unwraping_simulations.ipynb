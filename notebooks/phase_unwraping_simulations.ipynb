{
 "cells": [
  {
   "cell_type": "markdown",
   "id": "505164ee",
   "metadata": {},
   "source": [
    "Import all needed libraries and functions"
   ]
  },
  {
   "cell_type": "code",
   "execution_count": 3,
   "id": "b662fee1",
   "metadata": {},
   "outputs": [
    {
     "ename": "FileNotFoundError",
     "evalue": "Could not find module 'c:\\Users\\oheymans\\odt-thesis\\src\\qgpu.dll' (or one of its dependencies). Try using the full path with constructor syntax.",
     "output_type": "error",
     "traceback": [
      "\u001b[31m---------------------------------------------------------------------------\u001b[39m",
      "\u001b[31mFileNotFoundError\u001b[39m                         Traceback (most recent call last)",
      "\u001b[36mCell\u001b[39m\u001b[36m \u001b[39m\u001b[32mIn[3]\u001b[39m\u001b[32m, line 13\u001b[39m\n\u001b[32m     11\u001b[39m sys.path.append(\u001b[33m\"\u001b[39m\u001b[33m../src\u001b[39m\u001b[33m\"\u001b[39m) \n\u001b[32m     12\u001b[39m \u001b[38;5;28;01mfrom\u001b[39;00m\u001b[38;5;250m \u001b[39m\u001b[34;01munwrap_arm\u001b[39;00m\u001b[38;5;250m \u001b[39m\u001b[38;5;28;01mimport\u001b[39;00m unwrap_phase_ARM\n\u001b[32m---> \u001b[39m\u001b[32m13\u001b[39m \u001b[38;5;28;01mfrom\u001b[39;00m\u001b[38;5;250m \u001b[39m\u001b[34;01munwrap_goldstein\u001b[39;00m\u001b[38;5;250m \u001b[39m\u001b[38;5;28;01mimport\u001b[39;00m unwrap_phase_qgpu\n\u001b[32m     15\u001b[39m \u001b[38;5;28;01mdef\u001b[39;00m\u001b[38;5;250m \u001b[39m\u001b[34mbackground_fit\u001b[39m(phase, mask, deg=\u001b[32m1\u001b[39m):\n\u001b[32m     16\u001b[39m     y, x = np.mgrid[\u001b[32m0\u001b[39m:phase.shape[\u001b[32m0\u001b[39m], \u001b[32m0\u001b[39m:phase.shape[\u001b[32m1\u001b[39m]]\n",
      "\u001b[36mFile \u001b[39m\u001b[32mc:\\Users\\oheymans\\odt-thesis\\notebooks\\../src\\unwrap_goldstein.py:7\u001b[39m\n\u001b[32m      5\u001b[39m \u001b[38;5;66;03m# Compute absolute path relative to this file\u001b[39;00m\n\u001b[32m      6\u001b[39m dll_path = os.path.join(os.path.dirname(\u001b[34m__file__\u001b[39m), \u001b[33m\"\u001b[39m\u001b[33mqgpu.dll\u001b[39m\u001b[33m\"\u001b[39m)\n\u001b[32m----> \u001b[39m\u001b[32m7\u001b[39m lib = \u001b[43mctypes\u001b[49m\u001b[43m.\u001b[49m\u001b[43mCDLL\u001b[49m\u001b[43m(\u001b[49m\u001b[43mdll_path\u001b[49m\u001b[43m)\u001b[49m\n\u001b[32m      9\u001b[39m lib.unwrap_phase_QGPU.argtypes = [\n\u001b[32m     10\u001b[39m     np.ctypeslib.ndpointer(dtype=np.float32, ndim=\u001b[32m2\u001b[39m, flags=\u001b[33m\"\u001b[39m\u001b[33mC_CONTIGUOUS\u001b[39m\u001b[33m\"\u001b[39m),\n\u001b[32m     11\u001b[39m     np.ctypeslib.ndpointer(dtype=np.float32, ndim=\u001b[32m2\u001b[39m, flags=\u001b[33m\"\u001b[39m\u001b[33mC_CONTIGUOUS\u001b[39m\u001b[33m\"\u001b[39m),\n\u001b[32m     12\u001b[39m     ctypes.c_int, ctypes.c_int\n\u001b[32m     13\u001b[39m ]\n\u001b[32m     14\u001b[39m lib.unwrap_phase_QGPU.restype = \u001b[38;5;28;01mNone\u001b[39;00m\n",
      "\u001b[36mFile \u001b[39m\u001b[32mc:\\Users\\oheymans\\AppData\\Local\\Programs\\Python\\Python313\\Lib\\ctypes\\__init__.py:390\u001b[39m, in \u001b[36mCDLL.__init__\u001b[39m\u001b[34m(self, name, mode, handle, use_errno, use_last_error, winmode)\u001b[39m\n\u001b[32m    387\u001b[39m \u001b[38;5;28mself\u001b[39m._FuncPtr = _FuncPtr\n\u001b[32m    389\u001b[39m \u001b[38;5;28;01mif\u001b[39;00m handle \u001b[38;5;129;01mis\u001b[39;00m \u001b[38;5;28;01mNone\u001b[39;00m:\n\u001b[32m--> \u001b[39m\u001b[32m390\u001b[39m     \u001b[38;5;28mself\u001b[39m._handle = \u001b[43m_dlopen\u001b[49m\u001b[43m(\u001b[49m\u001b[38;5;28;43mself\u001b[39;49m\u001b[43m.\u001b[49m\u001b[43m_name\u001b[49m\u001b[43m,\u001b[49m\u001b[43m \u001b[49m\u001b[43mmode\u001b[49m\u001b[43m)\u001b[49m\n\u001b[32m    391\u001b[39m \u001b[38;5;28;01melse\u001b[39;00m:\n\u001b[32m    392\u001b[39m     \u001b[38;5;28mself\u001b[39m._handle = handle\n",
      "\u001b[31mFileNotFoundError\u001b[39m: Could not find module 'c:\\Users\\oheymans\\odt-thesis\\src\\qgpu.dll' (or one of its dependencies). Try using the full path with constructor syntax."
     ]
    }
   ],
   "source": [
    "import numpy as np\n",
    "import matplotlib.pyplot as plt\n",
    "import skimage as ski\n",
    "import math\n",
    "import cv2\n",
    "import sys\n",
    "sys.path.insert(0, \"../src\")\n",
    "from Ghilia import unwrap_phase_weighted\n",
    "from cylinder_phase import cylinder_phase_perp_to_z_3d\n",
    "from scipy.fftpack import dctn, idctn\n",
    "sys.path.append(\"../src\") \n",
    "from unwrap_arm import unwrap_phase_ARM\n",
    "from unwrap_goldstein import unwrap_phase_qgpu\n",
    "\n",
    "def background_fit(phase, mask, deg=1):\n",
    "    y, x = np.mgrid[0:phase.shape[0], 0:phase.shape[1]]\n",
    "    x_data, y_data = x[mask], y[mask]\n",
    "    z_data = phase[mask]\n",
    "    A = np.vstack([x_data**m * y_data**n for m in range(deg+1) for n in range(deg+1-m)]).T\n",
    "    coeffs, *_ = np.linalg.lstsq(A, z_data, rcond=None)\n",
    "    bg = np.zeros_like(phase, dtype=float)\n",
    "    idx = 0\n",
    "    for m in range(deg+1):\n",
    "        for n in range(deg+1-m):\n",
    "            bg += coeffs[idx] * (x**m) * (y**n)\n",
    "            idx += 1\n",
    "    return bg\n",
    "\n",
    "def additive_noise(phase, sigma, enabled=False):\n",
    "    if enabled:\n",
    "        return phase + sigma * np.random.randn(*phase.shape)\n",
    "    return phase"
   ]
  },
  {
   "cell_type": "markdown",
   "id": "f346bf84",
   "metadata": {},
   "source": [
    "Starting by defining parameters of the system and image"
   ]
  },
  {
   "cell_type": "code",
   "execution_count": null,
   "id": "a22ccc66",
   "metadata": {},
   "outputs": [],
   "source": [
    "# Grid (µm/px)\n",
    "Nx, Ny = 512, 512\n",
    "px, py = 0.2, 0.2\n",
    "\n",
    "# Optics\n",
    "lam   = 0.532     # wavelength (µm)\n",
    "n_med = 1.33      # medium index\n",
    "pz    = 0.2       # z step for integration (µm)  "
   ]
  },
  {
   "cell_type": "markdown",
   "id": "f1d984a8",
   "metadata": {},
   "source": [
    " here the desired shape for test, its parameters and it's refractive index should be determined, this "
   ]
  },
  {
   "cell_type": "code",
   "execution_count": null,
   "id": "80c6a5eb",
   "metadata": {},
   "outputs": [],
   "source": [
    "\n",
    "# Material: either a scalar, a 2D array n(x,y), or a callable n_obj(X,Y,z)\n",
    "n_obj = 1.38      \n",
    "\n",
    "# Activate for cylinder geometry\n",
    "\n",
    "R = 20.0          # radius (µm)\n",
    "L = 60.0          # axis length along x (µm); set None for infinite\n",
    "\n",
    "phi_true, phi_wrapped, tissue_mask, medium_mask  = cylinder_phase_perp_to_z_3d(\n",
    "    Nx, Ny, px, py,\n",
    "    R, L,\n",
    "    lam=lam, n_med=n_med,\n",
    "    n_obj=n_obj,\n",
    "    pz=pz\n",
    ")\n",
    "\n",
    "phi_wrapped_used = phi_wrapped\n"
   ]
  },
  {
   "cell_type": "markdown",
   "id": "c797a662",
   "metadata": {},
   "source": [
    "Optionally add noise (currently white noise), and apply corrections for background"
   ]
  },
  {
   "cell_type": "code",
   "execution_count": null,
   "id": "0935c2f7",
   "metadata": {},
   "outputs": [],
   "source": [
    "# Choose wether to use random noisy data or not and choose how noisy it will be \n",
    "use_noisy = False  \n",
    "sigma = 0.1 # How noisy will the data be\n",
    "\n",
    "# Choose wether to apply correction to the background\n",
    "apply_correction = True \n",
    "\n",
    "plots = [phi_true, phi_wrapped_used]\n",
    "plots_names = [\"Ground Truth Phase (rad)\", \"Wrapped Phase (rad)\"]\n",
    "n = 2\n",
    "\n",
    "if use_noisy:\n",
    "    phi_noisy = additive_noise(phi_true, sigma, enabled=True)\n",
    "    phi_wrapped_used = additive_noise(phi_wrapped, sigma, enabled=True)\n",
    "else:\n",
    "    phi_noisy = None\n",
    "    phi_wrapped_used = phi_wrapped\n"
   ]
  },
  {
   "cell_type": "code",
   "execution_count": null,
   "id": "a09febf6",
   "metadata": {},
   "outputs": [],
   "source": [
    "# Build plots list\n",
    "plots = [phi_true, phi_wrapped_used]\n",
    "plots_names = [\"Ground Truth Phase (rad)\", \n",
    "               \"Noisy Wrapped Phase (rad)\" if use_noisy else \"Wrapped Phase (rad)\"]\n",
    "\n",
    "if use_noisy:\n",
    "    plots.insert(1, phi_noisy)\n",
    "    plots_names.insert(1, \"Noisy Phase (rad)\")\n",
    "\n",
    "n = len(plots)\n",
    "\n",
    "# Plot\n",
    "\n",
    "fig, axes = plt.subplots(1, n, figsize=(12,4))\n",
    "\n",
    "for i, (data, name) in enumerate(zip(plots, plots_names)):\n",
    "    im = axes[i].imshow(data, origin='lower',\n",
    "                        extent=[-Nx*px/2, Nx*px/2, -Ny*py/2, Ny*py/2])\n",
    "    axes[i].set_title(name)\n",
    "    plt.colorbar(im, ax=axes[i])\n",
    "    axes[i].set_xlabel(\"x (µm)\")\n",
    "    axes[i].set_ylabel(\"y (µm)\")\n",
    "\n",
    "plt.tight_layout()"
   ]
  },
  {
   "cell_type": "markdown",
   "id": "0a41a117",
   "metadata": {},
   "source": [
    "1. First tested algorithm based on \n",
    "\n",
    "Miguel Arevallilo Herráez, David R. Burton, Michael J. Lalor, and Munther A. Gdeisat, \"Fast two-dimensional phase-unwrapping algorithm based on sorting by reliability following a noncontinuous path,\" Appl. Opt. 41, 7437-7444 (2002)"
   ]
  },
  {
   "cell_type": "code",
   "execution_count": null,
   "id": "3e097792",
   "metadata": {},
   "outputs": [],
   "source": [
    "from skimage.restoration import unwrap_phase\n",
    "\n",
    "\"from the package - ability to choose trust worthy pixels\"\n",
    "#mask = np.zeros_like(phi_true, dtype=bool)\n",
    "#mask[phi_true.shape[0] // 2, :] = True\n",
    "#phi_unwrapped = unwrap_phase(phi_wrap)\n",
    "\n",
    "\"\"\"\n",
    "background correction\n",
    "bg_wrap = background_fit(phi_wrap, medium_mask, deg=1)\n",
    "phi_wrap_corr = phi_wrap - bg_wrap\n",
    "unwrapped_for_plot = phi_unwrapped\n",
    "bg_for_plot   = bg_unwrap\n",
    "final_for_plot = phi_corrected\n",
    "if not apply_correction:\n",
    "    wrap_corr_for_plot = phi_wrap\n",
    "    final_for_plot     = phi_unwrapped\n",
    "else:\n",
    "    wrap_corr_for_plot = phi_wrap_corr\n",
    "    final_for_plot     = phi_corrected\n",
    "\n",
    "bg_unwrap = background_fit(phi_unwrapped, medium_mask, deg=1)\n",
    "phi_corrected = phi_unwrapped - bg_unwrap\n",
    "\n",
    "\"\"\"\n",
    "\n",
    "# unwrap\n",
    "phi_unwrapped = unwrap_phase(phi_wrapped_used)\n",
    "\n",
    "\n",
    "# Plot\n",
    "plots.append(phi_unwrapped)\n",
    "plots_names.append(\"Unwrapped Phase (rad)\")\n",
    "\n",
    "n = len(plots)\n",
    "\n",
    "cols = math.ceil(math.sqrt(n))   # columns\n",
    "rows = math.ceil(n / cols)       # rows\n",
    "\n",
    "fig, axes = plt.subplots(rows, cols, figsize=(4*cols, 4*rows))\n",
    "axes = axes.ravel()  # flatten to 1D for easy looping\n",
    "\n",
    "for i, (data, name) in enumerate(zip(plots, plots_names)):\n",
    "    im = axes[i].imshow(data, origin='lower',\n",
    "                        extent=[-Nx*px/2, Nx*px/2, -Ny*py/2, Ny*py/2])\n",
    "    axes[i].set_title(name)\n",
    "    plt.colorbar(im, ax=axes[i])\n",
    "    axes[i].set_xlabel(\"x (µm)\")\n",
    "    axes[i].set_ylabel(\"y (µm)\")\n",
    "\n",
    "# hide empty subplots if grid > n\n",
    "for j in range(i+1, len(axes)):\n",
    "    axes[j].axis(\"off\")\n",
    "\n",
    "plt.tight_layout()\n",
    "\n",
    "plots = [phi_true, phi_wrapped_used]\n"
   ]
  },
  {
   "cell_type": "markdown",
   "id": "d33439ba",
   "metadata": {},
   "source": [
    "https://github.com/Zeekk9/GhiliaUnwap?tab=readme-ov-file"
   ]
  },
  {
   "cell_type": "code",
   "execution_count": null,
   "id": "099cba23",
   "metadata": {},
   "outputs": [],
   "source": [
    "if use_noisy:\n",
    "    plots.insert(1, phi_noisy)\n",
    "    plots_names.insert(1, \"Noisy Phase (rad)\")\n",
    "\n",
    "phi_unwrapped = unwrap_phase_weighted(phi_wrapped_used)\n",
    "print(phi_unwrapped.shape)\n",
    "\n",
    "plots.append(phi_unwrapped)\n",
    "plots_names.append(\"Unwrapped Phase (rad)\")\n",
    "n = len(plots)\n",
    "\n",
    "\n",
    "# Plot\n",
    "\"\"\"\n",
    "\n",
    "cols = math.ceil(math.sqrt(n))   # columns\n",
    "rows = math.ceil(n / cols)       # rows\n",
    "\"\"\"\n",
    "\n",
    "fig, axes = plt.subplots(rows, cols, figsize=(4*cols, 4*rows))\n",
    "axes = axes.ravel()  # flatten to 1D for easy looping\n",
    "\n",
    "for i, (data, name) in enumerate(zip(plots, plots_names)):\n",
    "    im = axes[i].imshow(data, origin='lower',\n",
    "                        extent=[-Nx*px/2, Nx*px/2, -Ny*py/2, Ny*py/2])\n",
    "    axes[i].set_title(name)\n",
    "    plt.colorbar(im, ax=axes[i])\n",
    "    axes[i].set_xlabel(\"x (µm)\")\n",
    "    axes[i].set_ylabel(\"y (µm)\")\n",
    "\n",
    "# hide empty subplots if grid > n\n",
    "for j in range(i+1, len(axes)):\n",
    "    axes[j].axis(\"off\")\n",
    "\n",
    "plt.tight_layout()\n",
    "\n",
    "plots = [phi_true, phi_wrapped_used]"
   ]
  },
  {
   "cell_type": "markdown",
   "id": "5b2edc03",
   "metadata": {},
   "source": [
    "Arm based on this paper:\n",
    "\n",
    "https://www-spiedigitallibrary-org.tudelft.idm.oclc.org/journals/optical-engineering/volume-57/issue-04/043113/Comparison-of-multihardware-parallel-implementations-for-a-phase-unwrapping-algorithm/10.1117/1.OE.57.4.043113.full\n",
    "\n",
    "with this source:\n",
    "\n",
    "https://codeocean.com/capsule/2672585/tree/v1\n",
    "\n",
    "* insert credits\n",
    "* explenation on implemetation of C code\n",
    "\n",
    "Still need to insrt some weights based on the paper, to improve results\n"
   ]
  },
  {
   "cell_type": "code",
   "execution_count": null,
   "id": "9da1f460",
   "metadata": {},
   "outputs": [],
   "source": [
    "if use_noisy:\n",
    "    plots.insert(1, phi_noisy)\n",
    "    plots_names.insert(1, \"Noisy Phase (rad)\")\n",
    "\n",
    "phi_unwrapped = unwrap_phase_ARM(phi_wrapped_used)\n",
    "print(phi_unwrapped.shape)\n",
    "\n",
    "plots.append(phi_unwrapped)\n",
    "plots_names.append(\"Unwrapped Phase (rad)\")\n",
    "n = len(plots)\n",
    "\n",
    "\n",
    "# Plot\n",
    "\"\"\"\n",
    "\n",
    "cols = math.ceil(math.sqrt(n))   # columns\n",
    "rows = math.ceil(n / cols)       # rows\n",
    "\"\"\"\n",
    "\n",
    "fig, axes = plt.subplots(rows, cols, figsize=(4*cols, 4*rows))\n",
    "axes = axes.ravel()  # flatten to 1D for easy looping\n",
    "\n",
    "for i, (data, name) in enumerate(zip(plots, plots_names)):\n",
    "    im = axes[i].imshow(data, origin='lower',\n",
    "                        extent=[-Nx*px/2, Nx*px/2, -Ny*py/2, Ny*py/2])\n",
    "    axes[i].set_title(name)\n",
    "    plt.colorbar(im, ax=axes[i])\n",
    "    axes[i].set_xlabel(\"x (µm)\")\n",
    "    axes[i].set_ylabel(\"y (µm)\")\n",
    "\n",
    "# hide empty subplots if grid > n\n",
    "for j in range(i+1, len(axes)):\n",
    "    axes[j].axis(\"off\")\n",
    "\n",
    "plt.tight_layout()\n",
    "\n",
    "plots = [phi_true, phi_wrapped_used]"
   ]
  },
  {
   "cell_type": "markdown",
   "id": "b61e6dd8",
   "metadata": {},
   "source": [
    "Parallel Goldstein \n",
    "https://www.sciencedirect.com/science/article/pii/S0143816619306566?via%3Dihub\n",
    "\n"
   ]
  },
  {
   "cell_type": "markdown",
   "id": "67e27319",
   "metadata": {},
   "source": [
    "Evaluation method for the unwrapping mechanism:\n",
    "1. by substracting unwrapped from ground truth phase\n",
    "2. by rewraping the unwrapped phase and comparing to wrapped phase"
   ]
  },
  {
   "cell_type": "code",
   "execution_count": null,
   "id": "04de7357",
   "metadata": {},
   "outputs": [],
   "source": [
    "truth_unwrapped_comp = phi_true - phi_unwrapped\n",
    "\n",
    "rewrapped = phi_rewrapped = np.angle(np.exp(1j * phi_unwrapped))\n",
    "\n",
    "rewrapped_wrapped_comp = rewrapped - phi_wrapped_used\n",
    "\n",
    "fig, axes = plt.subplots(1, 2, figsize=(13, 8))\n",
    "\n",
    "im0 = axes[0].imshow(truth_unwrapped_comp, cmap='Spectral')\n",
    "axes[0].set_title(\"Ground truth vs unwrapped difference\")\n",
    "plt.colorbar(im0, ax=axes[0])\n",
    "\n",
    "im1 = axes[1].imshow(rewrapped_wrapped_comp, cmap='Spectral', vmin=-np.pi, vmax=np.pi)\n",
    "axes[1].set_title(\"Re-wrapped phase and wrapped comparison\")\n",
    "plt.colorbar(im1, ax=axes[1])\n",
    "\n"
   ]
  },
  {
   "cell_type": "code",
   "execution_count": null,
   "id": "a8ab16d1",
   "metadata": {},
   "outputs": [],
   "source": []
  },
  {
   "cell_type": "code",
   "execution_count": null,
   "id": "94bb6824",
   "metadata": {},
   "outputs": [],
   "source": []
  },
  {
   "cell_type": "code",
   "execution_count": null,
   "id": "3fc07909",
   "metadata": {},
   "outputs": [],
   "source": []
  }
 ],
 "metadata": {
  "kernelspec": {
   "display_name": "Python 3",
   "language": "python",
   "name": "python3"
  },
  "language_info": {
   "codemirror_mode": {
    "name": "ipython",
    "version": 3
   },
   "file_extension": ".py",
   "mimetype": "text/x-python",
   "name": "python",
   "nbconvert_exporter": "python",
   "pygments_lexer": "ipython3",
   "version": "3.13.7"
  }
 },
 "nbformat": 4,
 "nbformat_minor": 5
}
